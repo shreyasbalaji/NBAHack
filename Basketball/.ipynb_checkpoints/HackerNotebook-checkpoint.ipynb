{
 "cells": [
  {
   "cell_type": "code",
   "execution_count": 2,
   "metadata": {
    "collapsed": true
   },
   "outputs": [],
   "source": [
    "import pandas as pd"
   ]
  },
  {
   "cell_type": "code",
   "execution_count": 3,
   "metadata": {
    "collapsed": true
   },
   "outputs": [],
   "source": [
    "codes = pd.read_csv('NBA Hackathon - Event Codes.txt', delim_whitespace=True)\n",
    "lineup = pd.read_csv('NBA Hackathon - Game Lineup Data Sample (50 Games).txt', delim_whitespace=True)\n",
    "plays = pd.read_csv('NBA Hackathon - Play by Play Data Sample (50 Games).txt', delim_whitespace=True)\n",
    "\n",
    "def read_to_list(file):\n",
    "    file_list = []\n",
    "    with open(file, 'r') as f:\n",
    "        file_list = f.readlines()\n",
    "    return [x.strip() for x in file_list]\n",
    "\n",
    "players = read_to_list('players.txt')\n",
    "player_map = {x: {} for x in players}\n",
    "game_ids = read_to_list('game_ids.txt')"
   ]
  },
  {
   "cell_type": "code",
   "execution_count": 9,
   "metadata": {},
   "outputs": [],
   "source": [
    "def parse(game_id, player_map):\n",
    "    df = plays[plays['Game_id'] == 'game_id']\n",
    "    df = df.sort_values(by=['Period', 'PC_Time', 'WC_Time', 'Event_Num'], ascending=[True, False, True, True])"
   ]
  },
  {
   "cell_type": "code",
   "execution_count": null,
   "metadata": {},
   "outputs": [],
   "source": []
  },
  {
   "cell_type": "code",
   "execution_count": null,
   "metadata": {
    "collapsed": true
   },
   "outputs": [],
   "source": []
  }
 ],
 "metadata": {
  "kernelspec": {
   "display_name": "Python 3",
   "language": "python",
   "name": "python3"
  },
  "language_info": {
   "codemirror_mode": {
    "name": "ipython",
    "version": 3
   },
   "file_extension": ".py",
   "mimetype": "text/x-python",
   "name": "python",
   "nbconvert_exporter": "python",
   "pygments_lexer": "ipython3",
   "version": "3.6.2"
  }
 },
 "nbformat": 4,
 "nbformat_minor": 2
}
