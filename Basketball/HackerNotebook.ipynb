{
 "cells": [
  {
   "cell_type": "code",
   "execution_count": 1,
   "metadata": {
    "collapsed": true
   },
   "outputs": [],
   "source": [
    "import pandas as pd"
   ]
  },
  {
   "cell_type": "code",
   "execution_count": null,
   "metadata": {
    "collapsed": true
   },
   "outputs": [],
   "source": [
    "codes = pd.read_csv('NBA Hackathon - Event Codes.txt', delim_whitespace=True)\n",
    "lineup = pd.read_csv('NBA Hackathon - Game Lineup Data Sample (50 Games).txt', delim_whitespace=True)\n",
    "plays = pd.read_csv('NBA Hackathon - Play by Play Data Sample (50 Games).txt', delim_whitespace=True)\n",
    "\n",
    "def read_to_list(file):\n",
    "    file_list = []\n",
    "    with open(file, 'r') as f:\n",
    "        file_list = f.readlines()\n",
    "    file_list = [x.strip() for x in file_list]\n",
    "    return file_list\n",
    "\n",
    "players = read_to_list('players.txt')\n",
    "game_ids = read_to_list('game_ids.txt')"
   ]
  }
 ],
 "metadata": {
  "kernelspec": {
   "display_name": "Python 3",
   "language": "python",
   "name": "python3"
  },
  "language_info": {
   "codemirror_mode": {
    "name": "ipython",
    "version": 3
   },
   "file_extension": ".py",
   "mimetype": "text/x-python",
   "name": "python",
   "nbconvert_exporter": "python",
   "pygments_lexer": "ipython3",
   "version": "3.6.2"
  }
 },
 "nbformat": 4,
 "nbformat_minor": 2
}
